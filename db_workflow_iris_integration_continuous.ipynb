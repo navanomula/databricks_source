{
 "cells": [
  {
   "cell_type": "code",
   "execution_count": null,
   "metadata": {
    "application/vnd.databricks.v1+cell": {
     "cellMetadata": {
      "byteLimit": 2048000,
      "rowLimit": 10000
     },
     "inputWidgets": {},
     "nuid": "b4450c7f-3e6d-4706-a394-f4b844d30820",
     "showTitle": false,
     "title": ""
    }
   },
   "outputs": [],
   "source": [
    "job_id=dbutils.widgets.text('job_id','')\n",
    "run_id=dbutils.widgets.text('run_id','')\n",
    "task_id=dbutils.widgets.text('task_id','')"
   ]
  },
  {
   "cell_type": "code",
   "execution_count": null,
   "metadata": {
    "application/vnd.databricks.v1+cell": {
     "cellMetadata": {
      "byteLimit": 2048000,
      "rowLimit": 10000
     },
     "inputWidgets": {},
     "nuid": "1743c733-b028-4cc8-b9c9-dee579a8eec8",
     "showTitle": false,
     "title": ""
    }
   },
   "outputs": [],
   "source": [
    "job_id=dbutils.widgets.get('job_id')\n",
    "run_id=dbutils.widgets.get('run_id')\n",
    "task_id=dbutils.widgets.get('task_id')"
   ]
  },
  {
   "cell_type": "code",
   "execution_count": null,
   "metadata": {
    "application/vnd.databricks.v1+cell": {
     "cellMetadata": {
      "byteLimit": 2048000,
      "rowLimit": 10000
     },
     "inputWidgets": {},
     "nuid": "bcdeeaba-825c-4b01-ab07-f258010c8a30",
     "showTitle": false,
     "title": ""
    }
   },
   "outputs": [],
   "source": []
  },
  {
   "cell_type": "code",
   "execution_count": null,
   "metadata": {
    "application/vnd.databricks.v1+cell": {
     "cellMetadata": {
      "byteLimit": 2048000,
      "rowLimit": 10000
     },
     "inputWidgets": {},
     "nuid": "1a841808-d63f-4e2f-82e2-af8dc9df1b1f",
     "showTitle": true,
     "title": "Retrieve tasks info from audit metadata table based on input"
    }
   },
   "outputs": [],
   "source": [
    "import json\n",
    "\n",
    "def retrieve_taskinfo_from_metadata_table(job_id,run_id,task_id):\n",
    "  try:\n",
    "    if job_id =='' and run_id =='' and task_id =='':\n",
    "      Query = (f'''\n",
    "        select \n",
    "          *\n",
    "        from\n",
    "          gbpdia_utils.metadata_gbp_execution m\n",
    "          left join gbpdia_utils.metadata_gbp_iris_incidents i\n",
    "            on m.job_id =i.job_id\n",
    "            and m.run_id = i.run_id\n",
    "            and m.task_id = i.task_id\n",
    "        where \n",
    "          LOAD_START_DT>=now()- INTERVAL 1 DAY\n",
    "          and JOB_STATUS='Failed'\n",
    "          and i.incident_number is null\n",
    "        ''')\n",
    "    else:\n",
    "      Query = (f'''\n",
    "          select \n",
    "            *\n",
    "          from\n",
    "            gbpdia_utils.metadata_gbp_execution m\n",
    "            left join gbpdia_utils.metadata_gbp_iris_incidents i\n",
    "              on m.job_id =i.job_id\n",
    "              and m.run_id = i.run_id\n",
    "              and m.task_id = i.task_id\n",
    "          where \n",
    "            'JOB_iD'='{job_id}' and 'RUN_ID'='{run_id}' and 'TASK_ID'='{task_id}'\n",
    "            and JOB_STATUS='Failed'\n",
    "            and i.incident_number is null\n",
    "          ''')\n",
    "\n",
    "    query_data = spark.sql(Query).collect()\n",
    "    if len(query_data)>0:\n",
    "      tasks_list=[]\n",
    "      for row in query_data:\n",
    "        #print(row)\n",
    "\n",
    "        job_id=row['JOB_ID']\n",
    "        run_id=row['RUN_ID']\n",
    "        task_id=row['TASK_ID']\n",
    "        \n",
    "        task_info={\n",
    "            \n",
    "            'job_id':job_id,\n",
    "            'run_id':run_id,\n",
    "            'task_id':task_id,\n",
    "            'task_name':row['TASK_NAME'],\n",
    "            'Workspace_URL':row['WORKSPACE_URL'],\n",
    "            'notebook_path':row['NOTEBOOK_PATH'],\n",
    "            'result_state':row['JOB_STATUS'],\n",
    "            'state_message':row['EXCEPTION']\n",
    "\n",
    "              }\n",
    "\n",
    "        task_info_short={\n",
    "            #'job_name':job_name,\n",
    "            'task_name':row['TASK_NAME'],\n",
    "            'result_state':row['JOB_STATUS'],\n",
    "            }\n",
    "        tasks_list.append([task_info,task_info_short,job_id,run_id,task_id])\n",
    "      print(tasks_list)\n",
    "      print(\"returning task_list from metadata table\")  \n",
    "      return tasks_list\n",
    "      \n",
    "    else:\n",
    "      print(\"No tasks found with the query search \")\n",
    "        \n",
    "  except Exception as Error:\n",
    "          print(Error)\n",
    "          print('No failed tasks found/incident already exists for this task')\n",
    "    \n",
    "  \n",
    "\n",
    "    "
   ]
  },
  {
   "cell_type": "code",
   "execution_count": null,
   "metadata": {
    "application/vnd.databricks.v1+cell": {
     "cellMetadata": {
      "byteLimit": 2048000,
      "rowLimit": 10000
     },
     "inputWidgets": {},
     "nuid": "60bb6bdc-96c9-444d-8aff-160a299df9a8",
     "showTitle": false,
     "title": ""
    }
   },
   "outputs": [],
   "source": [
    "def insert_into_metadata_gbp_execution_failed_runs(job_id,run_id,task_id,incident_number):\n",
    "\n",
    "    try:\n",
    "        query=f'''insert into gbpdia_utils.metadata_gbp_iris_incidents(job_id,run_id,task_id,incident_number,insert_ts)\n",
    "        values('{job_id}','{run_id}','{task_id}','{incident_number}',CURRENT_TIMESTAMP()) '''\n",
    "        spark.sql(query)\n",
    "    except Exception as Error:\n",
    "      print(Error)\n",
    "      "
   ]
  },
  {
   "cell_type": "code",
   "execution_count": null,
   "metadata": {
    "application/vnd.databricks.v1+cell": {
     "cellMetadata": {
      "byteLimit": 2048000,
      "rowLimit": 10000
     },
     "inputWidgets": {},
     "nuid": "a2f38ded-a243-4436-a0bd-6d4bc0a34f1d",
     "showTitle": true,
     "title": "Creating ServiceNow incident"
    }
   },
   "outputs": [],
   "source": [
    "import requests, json\n",
    "\n",
    "def create_servicenow_incident(url,access_token_url,client_id,client_secret,resource,urgency,short_description,impact,cmdb_ci,caller_id,location,assignment_group,description,job_id,run_id,task_id):\n",
    "\n",
    "    access_token=get_access_token(access_token_url,client_id,client_secret,resource)\n",
    "   \n",
    "\n",
    "    headers={'Authorization': f'Bearer {access_token}',\n",
    "        'Content-Type':'application/json','Accept':'application/json'}\n",
    "\n",
    "    data={\n",
    "    \"incident_object\":{\n",
    "        \"urgency\":urgency,\n",
    "        \"short_description\":short_description,\n",
    "        \"impact\":impact,\n",
    "        \"cmdb_ci\":cmdb_ci,\n",
    "        \"caller_id\":caller_id,\n",
    "        \"location\": location,\n",
    "        \"assignment_group\":assignment_group,\n",
    "        \"description\":description\n",
    "        }\n",
    "    }\n",
    "    response=requests.post(url,headers=headers,data=json.dumps(data))\n",
    "    print(response)\n",
    "\n",
    "    #check for http codes other than 200\n",
    "\n",
    "    if response.status_code!=200:\n",
    "        print('Status:',response.status_code,'Headers:', response.headers, 'Error Response:',response.json())\n",
    "        exit()\n",
    "\n",
    "    data=response.json()    \n",
    "    incident=data['result']['return_response']['number']\n",
    "    print('---------------Inserting incident data into metadata_gbp_execution_failed_runs table ')\n",
    "    insert_into_metadata_gbp_execution_failed_runs(job_id,run_id,task_id,incident)\n",
    "    return data\n",
    "\n"
   ]
  },
  {
   "cell_type": "code",
   "execution_count": null,
   "metadata": {
    "application/vnd.databricks.v1+cell": {
     "cellMetadata": {
      "byteLimit": 2048000,
      "rowLimit": 10000
     },
     "inputWidgets": {},
     "nuid": "be8a86c7-134f-4b0e-a6d9-b2454b0858b6",
     "showTitle": true,
     "title": "Obtaining access token"
    }
   },
   "outputs": [],
   "source": [
    "\n",
    "\n",
    "def get_access_token(access_token_url,client_id,client_secret,resource):\n",
    "\n",
    "    headers={ 'Content-Type':'application/x-www-form-urlencoded'}\n",
    "    payload=  {\n",
    "    'f':'pjson',\n",
    "    'grant_type':'client_credentials',\n",
    "    'client_id':client_id,\n",
    "    'client_secret':client_secret,\n",
    "    'resource':resource\n",
    "\n",
    "          }\n",
    "    \n",
    "    try:\n",
    "\n",
    "        response=requests.post(access_token_url,headers=headers,data=payload)\n",
    "        if response.status_code==200:\n",
    "             token=response.json().get('access_token')\n",
    "             return (token)\n",
    "        else:\n",
    "            print(f'Failed to obtain access token. Status Code:{response.status_code}')\n",
    "            print(f'Response content: {response.content.decode()}')\n",
    "        \n",
    "    except Exception as e:\n",
    "         print(f'Error:{str(e)}') \n",
    "\n",
    "\n"
   ]
  },
  {
   "cell_type": "code",
   "execution_count": null,
   "metadata": {
    "application/vnd.databricks.v1+cell": {
     "cellMetadata": {
      "byteLimit": 2048000,
      "rowLimit": 10000
     },
     "inputWidgets": {},
     "nuid": "d3699432-1566-44c7-ab0a-6524ff1d650e",
     "showTitle": false,
     "title": ""
    }
   },
   "outputs": [],
   "source": [
    "incident_url='https://xxxxxxxxxxxxxxxxxxxxxxxx/apg-001-servicenow/v1/now/table/incident/'\n",
    "access_token_url='https:/xxxxxxxxxxxxxxxxxxxxxx/oauth2/token?api-version=1.0'\n",
    "databricks_url='https://xxxxxxxxxxxxxxxxxxxxxxxxxxxxxx/api/2.1/jobs/runs/get/'\n",
    "client_id='xxxxxxxxxxxxxxxxxxxxxx'\n",
    "resource='xxxxxxxxxxxxxxxxxxx'\n",
    "db_access_token=dbutils.secrets.get(\"scope_name\",'secret_name')\n",
    "client_secret=dbutils.secrets.get(\"scope_name\",'secret_name')\n",
    "\n",
    "\n",
    "\n",
    "# required to create an incident\n",
    "urgency=\"3\"\n",
    "impact=\"2\"\n",
    "cmdb_ci=\"xxxxxxxxxx\"\n",
    "caller_id=\"123455\"\n",
    "location='1234'\n",
    "assignment_group=\"xxxxxxxxxxx\""
   ]
  },
  {
   "cell_type": "code",
   "execution_count": null,
   "metadata": {
    "application/vnd.databricks.v1+cell": {
     "cellMetadata": {
      "byteLimit": 2048000,
      "rowLimit": 10000
     },
     "inputWidgets": {},
     "nuid": "230f0f80-93f7-49a5-9e96-133615e99bfa",
     "showTitle": false,
     "title": ""
    }
   },
   "outputs": [],
   "source": [
    "\n",
    "task_info=retrieve_taskinfo_from_metadata_table(job_id,run_id,task_id)\n"
   ]
  },
  {
   "cell_type": "code",
   "execution_count": null,
   "metadata": {
    "application/vnd.databricks.v1+cell": {
     "cellMetadata": {
      "byteLimit": 2048000,
      "rowLimit": 10000
     },
     "inputWidgets": {},
     "nuid": "cb094b15-c4fe-4b47-adff-2289dc5c493a",
     "showTitle": false,
     "title": ""
    }
   },
   "outputs": [],
   "source": [
    "\n",
    "#print(task_info)\n",
    "\n",
    "if task_info is not None:\n",
    "    for item in task_info:\n",
    "        description=json.dumps(item[0])\n",
    "        short_description=json.dumps(item[1])\n",
    "        job_id=item[2]\n",
    "        run_id=item[3]\n",
    "        task_id=item[4]\n",
    "        print('--------------')\n",
    "        print(job_id,run_id,task_id)\n",
    "            \n",
    "        print('description:',description)\n",
    "        print('short description:',short_description)\n",
    "        \n",
    "        create_servicenow_incident(incident_url,access_token_url,client_id,client_secret,resource,urgency,short_description,impact,cmdb_ci,caller_id,location,assignment_group,description,job_id,run_id,task_id)\n",
    "else:\n",
    "    print('No failed tasks found or Incident already exists')\n",
    "    exit()\n",
    "\n",
    "    \n",
    "\n"
   ]
  },
  {
   "cell_type": "code",
   "execution_count": null,
   "metadata": {
    "application/vnd.databricks.v1+cell": {
     "cellMetadata": {
      "byteLimit": 2048000,
      "rowLimit": 10000
     },
     "inputWidgets": {},
     "nuid": "0d43db21-80a8-4736-bfe3-8b5efbca4d29",
     "showTitle": false,
     "title": ""
    }
   },
   "outputs": [],
   "source": []
  }
 ],
 "metadata": {
  "application/vnd.databricks.v1+notebook": {
   "dashboards": [],
   "language": "python",
   "notebookMetadata": {
    "pythonIndentUnit": 4
   },
   "notebookName": "db_workflow_iris_integration_continuous",
   "widgets": {
    "job_id": {
     "currentValue": "",
     "nuid": "984b784f-6837-4ca3-9d68-7b0213a5cbc2",
     "widgetInfo": {
      "defaultValue": "",
      "label": null,
      "name": "job_id",
      "options": {
       "autoCreated": null,
       "validationRegex": null,
       "widgetType": "text"
      },
      "widgetType": "text"
     }
    },
    "run_id": {
     "currentValue": "",
     "nuid": "ff1a109d-db26-4ada-a02c-3b674178fa13",
     "widgetInfo": {
      "defaultValue": "",
      "label": null,
      "name": "run_id",
      "options": {
       "autoCreated": null,
       "validationRegex": null,
       "widgetType": "text"
      },
      "widgetType": "text"
     }
    },
    "task_id": {
     "currentValue": "",
     "nuid": "402b1f93-e7b3-4cd2-ad97-b672c9eb94c0",
     "widgetInfo": {
      "defaultValue": "",
      "label": null,
      "name": "task_id",
      "options": {
       "autoCreated": null,
       "validationRegex": null,
       "widgetType": "text"
      },
      "widgetType": "text"
     }
    }
   }
  },
  "language_info": {
   "name": "python"
  }
 },
 "nbformat": 4,
 "nbformat_minor": 0
}
